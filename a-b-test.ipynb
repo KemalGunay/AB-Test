{
 "cells": [
  {
   "cell_type": "markdown",
   "id": "8d822413",
   "metadata": {
    "_cell_guid": "b1076dfc-b9ad-4769-8c92-a6c4dae69d19",
    "_uuid": "8f2839f25d086af736a60e9eeb907d3b93b6e0e5",
    "papermill": {
     "duration": 0.014791,
     "end_time": "2021-10-09T11:27:22.122111",
     "exception": false,
     "start_time": "2021-10-09T11:27:22.107320",
     "status": "completed"
    },
    "tags": []
   },
   "source": [
    "# A / B Testing\n",
    "A/B testing (also known as bucket testing or split-run testing) is a user experience research methodology. A/B tests consist of a randomized experiment with two variants, A and B. It includes application of statistical hypothesis testing or \"two-sample hypothesis testing\" as used in the field of statistics. A/B testing is a way to compare two versions of a single variable, typically by testing a subject's response to variant A against variant B, and determining which of the two variants is more effective.\n",
    "\n",
    "<font color = 'blue'>\n",
    "Content: \n",
    "\n",
    "1. [Business Problem](#1)\n",
    "1. [Variables](#2)\n",
    "1. [Libraries](#3)\n",
    "1. [Load Data](#4)\n",
    "1. [Which System - Comparison](#5)\n",
    "1. [Independent Two Sample T-Test](#6)\n",
    "    * [6.1. Hypothesis Testing](#7)\n",
    "    * [6.2. Assumption Control](#8)\n",
    "        * [6.2.1. Normality Assumption (Shapiro-Wilk-W-Test)](#9)\n",
    "        * [6.2.2. Variance Homogeneity Assumption](#10)\n",
    "    * [6.3. Independent Two Sample T-Test](#11)\n",
    "1. [References](#12)\n",
    "\n"
   ]
  },
  {
   "cell_type": "markdown",
   "id": "2b27d202",
   "metadata": {
    "papermill": {
     "duration": 0.012823,
     "end_time": "2021-10-09T11:27:22.150264",
     "exception": false,
     "start_time": "2021-10-09T11:27:22.137441",
     "status": "completed"
    },
    "tags": []
   },
   "source": [
    "<a id = \"1\"></a><br>\n",
    "## 1. Business Problem\n",
    "A ...... company recently introduced a new bidding type, “average bidding”, as an alternative to its exisiting bidding type, called “maximum bidding”. One of our clients, --------.com, has decided to test this new feature and wants to conduct an A/B test to understand if average bidding brings more conversions than maximum bidding.\n",
    "\n",
    "In this A/B test, --------.com randomly splits its audience into two equally sized groups, e.g. the test and the control group. A --------- company ad campaign with “maximum bidding” is served to “control group” and another campaign with “average bidding” is served to the “test group”.\n",
    "\n",
    "The A/B test has run for 1 month and --------.com now expects you to analyze and present the results of this A/B test.\n",
    "\n",
    "\n",
    "You should answer the following questions in your presentation:\n",
    "\n",
    "* How would you define the hypothesis of this A/B test?\n",
    "* Can we conclude statistically significant results?\n",
    "* Which statistical test did you use, and why?\n",
    "* Based on your answer to Question 2, what would be your recommendation to client?"
   ]
  },
  {
   "cell_type": "markdown",
   "id": "1dd136a2",
   "metadata": {
    "papermill": {
     "duration": 0.013122,
     "end_time": "2021-10-09T11:27:22.176398",
     "exception": false,
     "start_time": "2021-10-09T11:27:22.163276",
     "status": "completed"
    },
    "tags": []
   },
   "source": [
    "<a id = \"2\"></a><br>\n",
    "## 2. Variables\n",
    "\n",
    "* **Impression**: Ad views\n",
    "* **Click**: Indicates the number of clicks on the displayed ad.\n",
    "* **Purchase:** Indicates the number of products purchased after the ads clicked.\n",
    "* **Earning:**  Earnings after purchased products"
   ]
  },
  {
   "cell_type": "markdown",
   "id": "7e4ee2d9",
   "metadata": {
    "papermill": {
     "duration": 0.012628,
     "end_time": "2021-10-09T11:27:22.202345",
     "exception": false,
     "start_time": "2021-10-09T11:27:22.189717",
     "status": "completed"
    },
    "tags": []
   },
   "source": [
    "<a id = \"3\"></a><br>\n",
    "## 3. Libraries"
   ]
  },
  {
   "cell_type": "code",
   "execution_count": 1,
   "id": "c0429680",
   "metadata": {
    "execution": {
     "iopub.execute_input": "2021-10-09T11:27:22.240498Z",
     "iopub.status.busy": "2021-10-09T11:27:22.236116Z",
     "iopub.status.idle": "2021-10-09T11:27:31.513032Z",
     "shell.execute_reply": "2021-10-09T11:27:31.512324Z",
     "shell.execute_reply.started": "2021-10-07T21:13:37.073668Z"
    },
    "papermill": {
     "duration": 9.298017,
     "end_time": "2021-10-09T11:27:31.513201",
     "exception": false,
     "start_time": "2021-10-09T11:27:22.215184",
     "status": "completed"
    },
    "tags": []
   },
   "outputs": [
    {
     "name": "stdout",
     "output_type": "stream",
     "text": [
      "Collecting openpyxl\r\n",
      "  Downloading openpyxl-3.0.9-py2.py3-none-any.whl (242 kB)\r\n",
      "\u001b[K     |████████████████████████████████| 242 kB 4.5 MB/s \r\n",
      "\u001b[?25hCollecting et-xmlfile\r\n",
      "  Downloading et_xmlfile-1.1.0-py3-none-any.whl (4.7 kB)\r\n",
      "Installing collected packages: et-xmlfile, openpyxl\r\n",
      "Successfully installed et-xmlfile-1.1.0 openpyxl-3.0.9\r\n",
      "\u001b[33mWARNING: Running pip as the 'root' user can result in broken permissions and conflicting behaviour with the system package manager. It is recommended to use a virtual environment instead: https://pip.pypa.io/warnings/venv\u001b[0m\r\n",
      "/kaggle/input/ab-testing/ab_testing.xlsx\n"
     ]
    }
   ],
   "source": [
    "import itertools\n",
    "import numpy as np\n",
    "import pandas as pd\n",
    "import matplotlib.pyplot as plt\n",
    "import seaborn as sns\n",
    "import statsmodels.stats.api as sms\n",
    "from scipy.stats import ttest_1samp, shapiro, levene, ttest_ind, mannwhitneyu, pearsonr, spearmanr, kendalltau, \\\n",
    "    f_oneway, kruskal\n",
    "from statsmodels.stats.proportion import proportions_ztest\n",
    "\n",
    "# installation required\n",
    "!pip install openpyxl # for excel file\n",
    "\n",
    "pd.set_option('display.max_columns', None)\n",
    "pd.set_option('display.max_rows', 10)\n",
    "pd.set_option('display.float_format', lambda x: '%.5f' % x)\n",
    "\n",
    "import os\n",
    "for dirname, _, filenames in os.walk('/kaggle/input'):\n",
    "    for filename in filenames:\n",
    "        print(os.path.join(dirname, filename))"
   ]
  },
  {
   "cell_type": "markdown",
   "id": "35e7506c",
   "metadata": {
    "papermill": {
     "duration": 0.01437,
     "end_time": "2021-10-09T11:27:31.543601",
     "exception": false,
     "start_time": "2021-10-09T11:27:31.529231",
     "status": "completed"
    },
    "tags": []
   },
   "source": [
    "<a id = \"4\"></a><br>\n",
    "## 4. Load Data "
   ]
  },
  {
   "cell_type": "code",
   "execution_count": 2,
   "id": "394ae679",
   "metadata": {
    "execution": {
     "iopub.execute_input": "2021-10-09T11:27:31.578611Z",
     "iopub.status.busy": "2021-10-09T11:27:31.577965Z",
     "iopub.status.idle": "2021-10-09T11:27:31.804221Z",
     "shell.execute_reply": "2021-10-09T11:27:31.804688Z",
     "shell.execute_reply.started": "2021-10-07T21:13:47.877292Z"
    },
    "papermill": {
     "duration": 0.246586,
     "end_time": "2021-10-09T11:27:31.804854",
     "exception": false,
     "start_time": "2021-10-09T11:27:31.558268",
     "status": "completed"
    },
    "tags": []
   },
   "outputs": [
    {
     "data": {
      "text/html": [
       "<div>\n",
       "<style scoped>\n",
       "    .dataframe tbody tr th:only-of-type {\n",
       "        vertical-align: middle;\n",
       "    }\n",
       "\n",
       "    .dataframe tbody tr th {\n",
       "        vertical-align: top;\n",
       "    }\n",
       "\n",
       "    .dataframe thead th {\n",
       "        text-align: right;\n",
       "    }\n",
       "</style>\n",
       "<table border=\"1\" class=\"dataframe\">\n",
       "  <thead>\n",
       "    <tr style=\"text-align: right;\">\n",
       "      <th></th>\n",
       "      <th>Impression</th>\n",
       "      <th>Click</th>\n",
       "      <th>Purchase</th>\n",
       "      <th>Earning</th>\n",
       "    </tr>\n",
       "  </thead>\n",
       "  <tbody>\n",
       "    <tr>\n",
       "      <th>0</th>\n",
       "      <td>82529.45927</td>\n",
       "      <td>6090.07732</td>\n",
       "      <td>665.21125</td>\n",
       "      <td>2311.27714</td>\n",
       "    </tr>\n",
       "    <tr>\n",
       "      <th>1</th>\n",
       "      <td>98050.45193</td>\n",
       "      <td>3382.86179</td>\n",
       "      <td>315.08489</td>\n",
       "      <td>1742.80686</td>\n",
       "    </tr>\n",
       "    <tr>\n",
       "      <th>2</th>\n",
       "      <td>82696.02355</td>\n",
       "      <td>4167.96575</td>\n",
       "      <td>458.08374</td>\n",
       "      <td>1797.82745</td>\n",
       "    </tr>\n",
       "    <tr>\n",
       "      <th>3</th>\n",
       "      <td>109914.40040</td>\n",
       "      <td>4910.88224</td>\n",
       "      <td>487.09077</td>\n",
       "      <td>1696.22918</td>\n",
       "    </tr>\n",
       "    <tr>\n",
       "      <th>4</th>\n",
       "      <td>108457.76263</td>\n",
       "      <td>5987.65581</td>\n",
       "      <td>441.03405</td>\n",
       "      <td>1543.72018</td>\n",
       "    </tr>\n",
       "  </tbody>\n",
       "</table>\n",
       "</div>"
      ],
      "text/plain": [
       "    Impression      Click  Purchase    Earning\n",
       "0  82529.45927 6090.07732 665.21125 2311.27714\n",
       "1  98050.45193 3382.86179 315.08489 1742.80686\n",
       "2  82696.02355 4167.96575 458.08374 1797.82745\n",
       "3 109914.40040 4910.88224 487.09077 1696.22918\n",
       "4 108457.76263 5987.65581 441.03405 1543.72018"
      ]
     },
     "execution_count": 2,
     "metadata": {},
     "output_type": "execute_result"
    }
   ],
   "source": [
    "# control data\n",
    "df_control = pd.read_excel(\"../input/ab-testing/ab_testing.xlsx\",sheet_name= \"Control Group\")\n",
    "df_control.head()"
   ]
  },
  {
   "cell_type": "code",
   "execution_count": 3,
   "id": "3e11fc96",
   "metadata": {
    "execution": {
     "iopub.execute_input": "2021-10-09T11:27:31.839458Z",
     "iopub.status.busy": "2021-10-09T11:27:31.838872Z",
     "iopub.status.idle": "2021-10-09T11:27:31.867824Z",
     "shell.execute_reply": "2021-10-09T11:27:31.867317Z",
     "shell.execute_reply.started": "2021-10-07T21:13:48.148815Z"
    },
    "papermill": {
     "duration": 0.046873,
     "end_time": "2021-10-09T11:27:31.867972",
     "exception": false,
     "start_time": "2021-10-09T11:27:31.821099",
     "status": "completed"
    },
    "tags": []
   },
   "outputs": [
    {
     "data": {
      "text/html": [
       "<div>\n",
       "<style scoped>\n",
       "    .dataframe tbody tr th:only-of-type {\n",
       "        vertical-align: middle;\n",
       "    }\n",
       "\n",
       "    .dataframe tbody tr th {\n",
       "        vertical-align: top;\n",
       "    }\n",
       "\n",
       "    .dataframe thead th {\n",
       "        text-align: right;\n",
       "    }\n",
       "</style>\n",
       "<table border=\"1\" class=\"dataframe\">\n",
       "  <thead>\n",
       "    <tr style=\"text-align: right;\">\n",
       "      <th></th>\n",
       "      <th>Impression</th>\n",
       "      <th>Click</th>\n",
       "      <th>Purchase</th>\n",
       "      <th>Earning</th>\n",
       "    </tr>\n",
       "  </thead>\n",
       "  <tbody>\n",
       "    <tr>\n",
       "      <th>0</th>\n",
       "      <td>120103.50380</td>\n",
       "      <td>3216.54796</td>\n",
       "      <td>702.16035</td>\n",
       "      <td>1939.61124</td>\n",
       "    </tr>\n",
       "    <tr>\n",
       "      <th>1</th>\n",
       "      <td>134775.94336</td>\n",
       "      <td>3635.08242</td>\n",
       "      <td>834.05429</td>\n",
       "      <td>2929.40582</td>\n",
       "    </tr>\n",
       "    <tr>\n",
       "      <th>2</th>\n",
       "      <td>107806.62079</td>\n",
       "      <td>3057.14356</td>\n",
       "      <td>422.93426</td>\n",
       "      <td>2526.24488</td>\n",
       "    </tr>\n",
       "    <tr>\n",
       "      <th>3</th>\n",
       "      <td>116445.27553</td>\n",
       "      <td>4650.47391</td>\n",
       "      <td>429.03353</td>\n",
       "      <td>2281.42857</td>\n",
       "    </tr>\n",
       "    <tr>\n",
       "      <th>4</th>\n",
       "      <td>145082.51684</td>\n",
       "      <td>5201.38772</td>\n",
       "      <td>749.86044</td>\n",
       "      <td>2781.69752</td>\n",
       "    </tr>\n",
       "  </tbody>\n",
       "</table>\n",
       "</div>"
      ],
      "text/plain": [
       "    Impression      Click  Purchase    Earning\n",
       "0 120103.50380 3216.54796 702.16035 1939.61124\n",
       "1 134775.94336 3635.08242 834.05429 2929.40582\n",
       "2 107806.62079 3057.14356 422.93426 2526.24488\n",
       "3 116445.27553 4650.47391 429.03353 2281.42857\n",
       "4 145082.51684 5201.38772 749.86044 2781.69752"
      ]
     },
     "execution_count": 3,
     "metadata": {},
     "output_type": "execute_result"
    }
   ],
   "source": [
    "# test data\n",
    "df_test = pd.read_excel(\"../input/ab-testing/ab_testing.xlsx\",sheet_name= \"Test Group\")\n",
    "df_test.head()"
   ]
  },
  {
   "cell_type": "markdown",
   "id": "9e636a89",
   "metadata": {
    "papermill": {
     "duration": 0.014956,
     "end_time": "2021-10-09T11:27:31.898233",
     "exception": false,
     "start_time": "2021-10-09T11:27:31.883277",
     "status": "completed"
    },
    "tags": []
   },
   "source": [
    "<a id = \"5\"></a><br>\n",
    "## 5. Which System Enables More Purchases?\n",
    "Comparison of Purchase Means"
   ]
  },
  {
   "cell_type": "code",
   "execution_count": 4,
   "id": "53c8b475",
   "metadata": {
    "execution": {
     "iopub.execute_input": "2021-10-09T11:27:31.935872Z",
     "iopub.status.busy": "2021-10-09T11:27:31.935272Z",
     "iopub.status.idle": "2021-10-09T11:27:31.941456Z",
     "shell.execute_reply": "2021-10-09T11:27:31.941900Z",
     "shell.execute_reply.started": "2021-10-07T21:13:48.19371Z"
    },
    "papermill": {
     "duration": 0.028416,
     "end_time": "2021-10-09T11:27:31.942058",
     "exception": false,
     "start_time": "2021-10-09T11:27:31.913642",
     "status": "completed"
    },
    "tags": []
   },
   "outputs": [
    {
     "data": {
      "text/plain": [
       "count    40.00000\n",
       "mean    550.89406\n",
       "std     134.10820\n",
       "min     267.02894\n",
       "25%     470.09553\n",
       "50%     531.20631\n",
       "75%     637.95709\n",
       "max     801.79502\n",
       "Name: Purchase, dtype: float64"
      ]
     },
     "execution_count": 4,
     "metadata": {},
     "output_type": "execute_result"
    }
   ],
   "source": [
    "df_control[\"Purchase\"].describe().T"
   ]
  },
  {
   "cell_type": "code",
   "execution_count": 5,
   "id": "5b39d3a7",
   "metadata": {
    "execution": {
     "iopub.execute_input": "2021-10-09T11:27:31.976720Z",
     "iopub.status.busy": "2021-10-09T11:27:31.976112Z",
     "iopub.status.idle": "2021-10-09T11:27:31.983725Z",
     "shell.execute_reply": "2021-10-09T11:27:31.984185Z",
     "shell.execute_reply.started": "2021-10-07T21:13:48.20775Z"
    },
    "papermill": {
     "duration": 0.026618,
     "end_time": "2021-10-09T11:27:31.984345",
     "exception": false,
     "start_time": "2021-10-09T11:27:31.957727",
     "status": "completed"
    },
    "tags": []
   },
   "outputs": [
    {
     "data": {
      "text/plain": [
       "count    40.00000\n",
       "mean    582.10610\n",
       "std     161.15251\n",
       "min     311.62952\n",
       "25%     444.62683\n",
       "50%     551.35573\n",
       "75%     699.86236\n",
       "max     889.91046\n",
       "Name: Purchase, dtype: float64"
      ]
     },
     "execution_count": 5,
     "metadata": {},
     "output_type": "execute_result"
    }
   ],
   "source": [
    "df_test[\"Purchase\"].describe().T"
   ]
  },
  {
   "cell_type": "code",
   "execution_count": 6,
   "id": "f12cc6f6",
   "metadata": {
    "execution": {
     "iopub.execute_input": "2021-10-09T11:27:32.019641Z",
     "iopub.status.busy": "2021-10-09T11:27:32.018989Z",
     "iopub.status.idle": "2021-10-09T11:27:32.025917Z",
     "shell.execute_reply": "2021-10-09T11:27:32.026359Z",
     "shell.execute_reply.started": "2021-10-07T21:13:48.220159Z"
    },
    "papermill": {
     "duration": 0.026458,
     "end_time": "2021-10-09T11:27:32.026542",
     "exception": false,
     "start_time": "2021-10-09T11:27:32.000084",
     "status": "completed"
    },
    "tags": []
   },
   "outputs": [
    {
     "data": {
      "text/plain": [
       "(508.0041754264924, 593.7839421139709)"
      ]
     },
     "execution_count": 6,
     "metadata": {},
     "output_type": "execute_result"
    }
   ],
   "source": [
    "sms.DescrStatsW(df_control[\"Purchase\"]).tconfint_mean()"
   ]
  },
  {
   "cell_type": "code",
   "execution_count": 7,
   "id": "d90d3312",
   "metadata": {
    "execution": {
     "iopub.execute_input": "2021-10-09T11:27:32.062202Z",
     "iopub.status.busy": "2021-10-09T11:27:32.061639Z",
     "iopub.status.idle": "2021-10-09T11:27:32.068521Z",
     "shell.execute_reply": "2021-10-09T11:27:32.068977Z",
     "shell.execute_reply.started": "2021-10-07T21:13:48.229605Z"
    },
    "papermill": {
     "duration": 0.026304,
     "end_time": "2021-10-09T11:27:32.069140",
     "exception": false,
     "start_time": "2021-10-09T11:27:32.042836",
     "status": "completed"
    },
    "tags": []
   },
   "outputs": [
    {
     "data": {
      "text/plain": [
       "(530.5670226990062, 633.6451705979289)"
      ]
     },
     "execution_count": 7,
     "metadata": {},
     "output_type": "execute_result"
    }
   ],
   "source": [
    "sms.DescrStatsW(df_test[\"Purchase\"]).tconfint_mean()"
   ]
  },
  {
   "cell_type": "markdown",
   "id": "235a7b7e",
   "metadata": {
    "papermill": {
     "duration": 0.017333,
     "end_time": "2021-10-09T11:27:32.103075",
     "exception": false,
     "start_time": "2021-10-09T11:27:32.085742",
     "status": "completed"
    },
    "tags": []
   },
   "source": [
    "This comparison indicates the new system is more applicable because it's mean is higher than old one\n",
    "\n",
    "Yet, this Question must be asked => Is the difference of Means meaningfull statistically\n"
   ]
  },
  {
   "cell_type": "markdown",
   "id": "c036a5a5",
   "metadata": {
    "papermill": {
     "duration": 0.01658,
     "end_time": "2021-10-09T11:27:32.136241",
     "exception": false,
     "start_time": "2021-10-09T11:27:32.119661",
     "status": "completed"
    },
    "tags": []
   },
   "source": [
    "<a id = \"6\"></a><br>\n",
    "## 6. Independent Two Sample T-Test\n"
   ]
  },
  {
   "cell_type": "markdown",
   "id": "6506898e",
   "metadata": {
    "papermill": {
     "duration": 0.016079,
     "end_time": "2021-10-09T11:27:32.169382",
     "exception": false,
     "start_time": "2021-10-09T11:27:32.153303",
     "status": "completed"
    },
    "tags": []
   },
   "source": [
    "<a id = \"7\"></a><br>\n",
    "### 6.1 Hypothesis Testing\n",
    "Let's write our hypothesis.\n",
    "* **h0: m1 = m2 :** no significant difference in control group and test group purchases\n",
    "* **h1: m1 != m2 :** there is a significant difference in control group and test group purchases\n",
    "\n",
    "<a id = \"8\"></a><br>\n",
    "### 6.2 Assumption Control\n",
    "Before test, we should consider \n",
    "1. Normality Assumption\n",
    "2. Variance Homogeneity Assumption\n",
    "\n",
    "<a id = \"9\"></a><br>\n",
    "#### 6.2.1. Normality Assumption (Shapiro-Wilk-W test)\n",
    "\n",
    "* **H0:** Normal distribution assumption is provided.(p-value < 0.05)\n",
    "\n",
    "* **H1:** Normal distribution assumption not provided. (not p-value < 0.05)"
   ]
  },
  {
   "cell_type": "code",
   "execution_count": 8,
   "id": "13efb8ec",
   "metadata": {
    "execution": {
     "iopub.execute_input": "2021-10-09T11:27:32.208062Z",
     "iopub.status.busy": "2021-10-09T11:27:32.207291Z",
     "iopub.status.idle": "2021-10-09T11:27:32.210853Z",
     "shell.execute_reply": "2021-10-09T11:27:32.210260Z",
     "shell.execute_reply.started": "2021-10-07T21:13:48.242565Z"
    },
    "papermill": {
     "duration": 0.024608,
     "end_time": "2021-10-09T11:27:32.210986",
     "exception": false,
     "start_time": "2021-10-09T11:27:32.186378",
     "status": "completed"
    },
    "tags": []
   },
   "outputs": [
    {
     "name": "stdout",
     "output_type": "stream",
     "text": [
      "Test Stat = 0.9773, p-value = 0.5891\n"
     ]
    }
   ],
   "source": [
    "# control group\n",
    "test_stat, pvalue = shapiro(df_control[\"Purchase\"])\n",
    "print('Test Stat = %.4f, p-value = %.4f' % (test_stat, pvalue))"
   ]
  },
  {
   "cell_type": "markdown",
   "id": "9531e9da",
   "metadata": {
    "papermill": {
     "duration": 0.016362,
     "end_time": "2021-10-09T11:27:32.244026",
     "exception": false,
     "start_time": "2021-10-09T11:27:32.227664",
     "status": "completed"
    },
    "tags": []
   },
   "source": [
    "H0 hypothesis could not be rejected because pvalue = 0.5891 > 0.05.\n",
    "\n",
    "We see that the data in the control group has a normal distribution.\n",
    "\n",
    "Because 0.05 is not greater than p value."
   ]
  },
  {
   "cell_type": "code",
   "execution_count": 9,
   "id": "34341481",
   "metadata": {
    "execution": {
     "iopub.execute_input": "2021-10-09T11:27:32.280989Z",
     "iopub.status.busy": "2021-10-09T11:27:32.280097Z",
     "iopub.status.idle": "2021-10-09T11:27:32.287147Z",
     "shell.execute_reply": "2021-10-09T11:27:32.286247Z",
     "shell.execute_reply.started": "2021-10-07T21:13:48.256422Z"
    },
    "papermill": {
     "duration": 0.026683,
     "end_time": "2021-10-09T11:27:32.287375",
     "exception": false,
     "start_time": "2021-10-09T11:27:32.260692",
     "status": "completed"
    },
    "tags": []
   },
   "outputs": [
    {
     "name": "stdout",
     "output_type": "stream",
     "text": [
      "Test Stat = 0.9589, p-value = 0.1541\n"
     ]
    }
   ],
   "source": [
    "# test group\n",
    "test_stat, pvalue = shapiro(df_test[\"Purchase\"])\n",
    "print('Test Stat = %.4f, p-value = %.4f' % (test_stat, pvalue))"
   ]
  },
  {
   "cell_type": "markdown",
   "id": "f52c2954",
   "metadata": {
    "papermill": {
     "duration": 0.016501,
     "end_time": "2021-10-09T11:27:32.322195",
     "exception": false,
     "start_time": "2021-10-09T11:27:32.305694",
     "status": "completed"
    },
    "tags": []
   },
   "source": [
    "H0 hypothesis could not be rejected because pvalue = 0.1541 > 0.05.\n",
    "\n",
    "We see that the data in the test group has a normal distribution.\n",
    "\n",
    "Because 0.05 is not greater than p value.\n",
    "\n",
    "<a id = \"10\"></a><br>\n",
    "#### 6.2.2. Variance Homogeneity Assumption\n",
    "\n",
    "Variance Homogeneity Assumption (Levene Test)\n",
    "\n",
    "**H0:** Variances are homogeneous. (p-value < 0.05)\n",
    "\n",
    "**H1:** Variances are not homogeneous. (not p-value < 0.05)"
   ]
  },
  {
   "cell_type": "code",
   "execution_count": 10,
   "id": "366621a9",
   "metadata": {
    "execution": {
     "iopub.execute_input": "2021-10-09T11:27:32.362814Z",
     "iopub.status.busy": "2021-10-09T11:27:32.361864Z",
     "iopub.status.idle": "2021-10-09T11:27:32.365167Z",
     "shell.execute_reply": "2021-10-09T11:27:32.365839Z",
     "shell.execute_reply.started": "2021-10-07T21:13:48.269014Z"
    },
    "papermill": {
     "duration": 0.027152,
     "end_time": "2021-10-09T11:27:32.366061",
     "exception": false,
     "start_time": "2021-10-09T11:27:32.338909",
     "status": "completed"
    },
    "tags": []
   },
   "outputs": [
    {
     "name": "stdout",
     "output_type": "stream",
     "text": [
      "Test Stat = 2.6393, p-value = 0.1083\n"
     ]
    }
   ],
   "source": [
    "test_stat, pvalue = levene(df_control[\"Purchase\"], df_test[\"Purchase\"])\n",
    "print('Test Stat = %.4f, p-value = %.4f' % (test_stat, pvalue))"
   ]
  },
  {
   "cell_type": "markdown",
   "id": "0caea819",
   "metadata": {
    "papermill": {
     "duration": 0.016755,
     "end_time": "2021-10-09T11:27:32.401052",
     "exception": false,
     "start_time": "2021-10-09T11:27:32.384297",
     "status": "completed"
    },
    "tags": []
   },
   "source": [
    "H0 hypothesis could be rejected because pvalue = 0.1083 > 0.05.\n",
    "\n",
    "We see that the data in the test and control group have variances homogeneous.\n",
    "\n",
    "Because 0.05 is not greater than p value."
   ]
  },
  {
   "cell_type": "markdown",
   "id": "6231bda6",
   "metadata": {
    "papermill": {
     "duration": 0.016565,
     "end_time": "2021-10-09T11:27:32.434848",
     "exception": false,
     "start_time": "2021-10-09T11:27:32.418283",
     "status": "completed"
    },
    "tags": []
   },
   "source": [
    "<a id = \"11\"></a><br>\n",
    "### 6.3. Independent Two Sample T-Test\n",
    "What was our hypothesis? Let's call it again.\n",
    "* H0: M1 = M2 (... there is no difference between the mean of the two groups.)\n",
    "* H1: M1 != M2 (...there is a difference between the ist means between the two group means)\n",
    "\n",
    "\n",
    "#### p-value indicates\n",
    "When we use independet two sample t-test, we should consider these values\n",
    "* p-value <- 0.05 H0 rejected\n",
    "* p-value <- if not 0.05, H0 can't be rejected"
   ]
  },
  {
   "cell_type": "code",
   "execution_count": 11,
   "id": "0ad0c73f",
   "metadata": {
    "execution": {
     "iopub.execute_input": "2021-10-09T11:27:32.475696Z",
     "iopub.status.busy": "2021-10-09T11:27:32.474730Z",
     "iopub.status.idle": "2021-10-09T11:27:32.477817Z",
     "shell.execute_reply": "2021-10-09T11:27:32.478254Z",
     "shell.execute_reply.started": "2021-10-07T21:13:48.281069Z"
    },
    "papermill": {
     "duration": 0.026539,
     "end_time": "2021-10-09T11:27:32.478434",
     "exception": false,
     "start_time": "2021-10-09T11:27:32.451895",
     "status": "completed"
    },
    "tags": []
   },
   "outputs": [
    {
     "name": "stdout",
     "output_type": "stream",
     "text": [
      "Test Stat = -0.9416, p-value = 0.3493\n"
     ]
    }
   ],
   "source": [
    "# Independent Two Sample T-Test\n",
    "test_stat, pvalue = ttest_ind(df_control[\"Purchase\"], df_test[\"Purchase\"], equal_var=True)\n",
    "print('Test Stat = %.4f, p-value = %.4f' % (test_stat, pvalue))"
   ]
  },
  {
   "cell_type": "markdown",
   "id": "2a186429",
   "metadata": {
    "papermill": {
     "duration": 0.016792,
     "end_time": "2021-10-09T11:27:32.512394",
     "exception": false,
     "start_time": "2021-10-09T11:27:32.495602",
     "status": "completed"
    },
    "tags": []
   },
   "source": [
    "p-value is 0.3493, H0 hypothesis cannot be rejected. There is a significant difference between the means of the two groups"
   ]
  },
  {
   "cell_type": "markdown",
   "id": "46b7c5d6",
   "metadata": {
    "papermill": {
     "duration": 0.016745,
     "end_time": "2021-10-09T11:27:32.546313",
     "exception": false,
     "start_time": "2021-10-09T11:27:32.529568",
     "status": "completed"
    },
    "tags": []
   },
   "source": [
    "<a id = \"12\"></a><br>\n",
    "## 7. References\n",
    "* https://github.com/mvahit\n",
    "* https://github.com/mathchi\n",
    "* https://www.veribilimiokulu.com/\n",
    "* https://www.linkedin.com/in/vahitkeskin/\n",
    "* https://en.wikipedia.org/wiki/A/B_testing"
   ]
  }
 ],
 "metadata": {
  "kernelspec": {
   "display_name": "Python 3",
   "language": "python",
   "name": "python3"
  },
  "language_info": {
   "codemirror_mode": {
    "name": "ipython",
    "version": 3
   },
   "file_extension": ".py",
   "mimetype": "text/x-python",
   "name": "python",
   "nbconvert_exporter": "python",
   "pygments_lexer": "ipython3",
   "version": "3.7.10"
  },
  "papermill": {
   "default_parameters": {},
   "duration": 18.664693,
   "end_time": "2021-10-09T11:27:34.187174",
   "environment_variables": {},
   "exception": null,
   "input_path": "__notebook__.ipynb",
   "output_path": "__notebook__.ipynb",
   "parameters": {},
   "start_time": "2021-10-09T11:27:15.522481",
   "version": "2.3.3"
  }
 },
 "nbformat": 4,
 "nbformat_minor": 5
}
