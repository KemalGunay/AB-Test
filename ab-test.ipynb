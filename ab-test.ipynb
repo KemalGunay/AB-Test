{
 "cells": [
  {
   "cell_type": "markdown",
   "id": "a83716a4",
   "metadata": {
    "_cell_guid": "b1076dfc-b9ad-4769-8c92-a6c4dae69d19",
    "_uuid": "8f2839f25d086af736a60e9eeb907d3b93b6e0e5",
    "papermill": {
     "duration": 0.012837,
     "end_time": "2021-10-07T21:15:01.268300",
     "exception": false,
     "start_time": "2021-10-07T21:15:01.255463",
     "status": "completed"
    },
    "tags": []
   },
   "source": [
    "## Business Problem\n",
    "A company recently introduced a new type of bidding, average bidding, as an alternative to the current type of bidding called maximum bidding.\n",
    "\n",
    "In this data set, which includes the website information of examplesite.com, there is information such as the number of advertisements that users see and click, as well as earnings information from here."
   ]
  },
  {
   "cell_type": "markdown",
   "id": "ca9ff35c",
   "metadata": {
    "papermill": {
     "duration": 0.011401,
     "end_time": "2021-10-07T21:15:01.292326",
     "exception": false,
     "start_time": "2021-10-07T21:15:01.280925",
     "status": "completed"
    },
    "tags": []
   },
   "source": [
    "## Variables\n",
    "\n",
    "* **Impression**: Ad views\n",
    "* **Click**: Indicates the number of clicks on the displayed ad.\n",
    "* **Purchase:** Indicates the number of products purchased after the ads clicked.\n",
    "* **Earning:**  Earnings after purchased products"
   ]
  },
  {
   "cell_type": "markdown",
   "id": "4f0cf53b",
   "metadata": {
    "papermill": {
     "duration": 0.012712,
     "end_time": "2021-10-07T21:15:01.317303",
     "exception": false,
     "start_time": "2021-10-07T21:15:01.304591",
     "status": "completed"
    },
    "tags": []
   },
   "source": [
    "## Libraries"
   ]
  },
  {
   "cell_type": "code",
   "execution_count": 1,
   "id": "3d3d6612",
   "metadata": {
    "execution": {
     "iopub.execute_input": "2021-10-07T21:15:01.344952Z",
     "iopub.status.busy": "2021-10-07T21:15:01.343934Z",
     "iopub.status.idle": "2021-10-07T21:15:11.410833Z",
     "shell.execute_reply": "2021-10-07T21:15:11.410058Z",
     "shell.execute_reply.started": "2021-10-07T21:13:37.073668Z"
    },
    "papermill": {
     "duration": 10.081441,
     "end_time": "2021-10-07T21:15:11.410986",
     "exception": false,
     "start_time": "2021-10-07T21:15:01.329545",
     "status": "completed"
    },
    "tags": []
   },
   "outputs": [
    {
     "name": "stdout",
     "output_type": "stream",
     "text": [
      "Collecting openpyxl\r\n",
      "  Downloading openpyxl-3.0.9-py2.py3-none-any.whl (242 kB)\r\n",
      "\u001b[K     |████████████████████████████████| 242 kB 517 kB/s \r\n",
      "\u001b[?25hCollecting et-xmlfile\r\n",
      "  Downloading et_xmlfile-1.1.0-py3-none-any.whl (4.7 kB)\r\n",
      "Installing collected packages: et-xmlfile, openpyxl\r\n",
      "Successfully installed et-xmlfile-1.1.0 openpyxl-3.0.9\r\n",
      "\u001b[33mWARNING: Running pip as the 'root' user can result in broken permissions and conflicting behaviour with the system package manager. It is recommended to use a virtual environment instead: https://pip.pypa.io/warnings/venv\u001b[0m\r\n",
      "/kaggle/input/ab-testing/ab_testing.xlsx\n"
     ]
    }
   ],
   "source": [
    "import itertools\n",
    "import numpy as np\n",
    "import pandas as pd\n",
    "import matplotlib.pyplot as plt\n",
    "import seaborn as sns\n",
    "import statsmodels.stats.api as sms\n",
    "from scipy.stats import ttest_1samp, shapiro, levene, ttest_ind, mannwhitneyu, pearsonr, spearmanr, kendalltau, \\\n",
    "    f_oneway, kruskal\n",
    "from statsmodels.stats.proportion import proportions_ztest\n",
    "\n",
    "# installation required\n",
    "!pip install openpyxl # for excel file\n",
    "\n",
    "pd.set_option('display.max_columns', None)\n",
    "pd.set_option('display.max_rows', 10)\n",
    "pd.set_option('display.float_format', lambda x: '%.5f' % x)\n",
    "\n",
    "import os\n",
    "for dirname, _, filenames in os.walk('/kaggle/input'):\n",
    "    for filename in filenames:\n",
    "        print(os.path.join(dirname, filename))"
   ]
  },
  {
   "cell_type": "markdown",
   "id": "75696468",
   "metadata": {
    "papermill": {
     "duration": 0.013927,
     "end_time": "2021-10-07T21:15:11.440306",
     "exception": false,
     "start_time": "2021-10-07T21:15:11.426379",
     "status": "completed"
    },
    "tags": []
   },
   "source": [
    "## Load Data "
   ]
  },
  {
   "cell_type": "code",
   "execution_count": 2,
   "id": "14e79aa1",
   "metadata": {
    "execution": {
     "iopub.execute_input": "2021-10-07T21:15:11.477480Z",
     "iopub.status.busy": "2021-10-07T21:15:11.476836Z",
     "iopub.status.idle": "2021-10-07T21:15:11.741064Z",
     "shell.execute_reply": "2021-10-07T21:15:11.740200Z",
     "shell.execute_reply.started": "2021-10-07T21:13:47.877292Z"
    },
    "papermill": {
     "duration": 0.286332,
     "end_time": "2021-10-07T21:15:11.741233",
     "exception": false,
     "start_time": "2021-10-07T21:15:11.454901",
     "status": "completed"
    },
    "tags": []
   },
   "outputs": [
    {
     "data": {
      "text/html": [
       "<div>\n",
       "<style scoped>\n",
       "    .dataframe tbody tr th:only-of-type {\n",
       "        vertical-align: middle;\n",
       "    }\n",
       "\n",
       "    .dataframe tbody tr th {\n",
       "        vertical-align: top;\n",
       "    }\n",
       "\n",
       "    .dataframe thead th {\n",
       "        text-align: right;\n",
       "    }\n",
       "</style>\n",
       "<table border=\"1\" class=\"dataframe\">\n",
       "  <thead>\n",
       "    <tr style=\"text-align: right;\">\n",
       "      <th></th>\n",
       "      <th>Impression</th>\n",
       "      <th>Click</th>\n",
       "      <th>Purchase</th>\n",
       "      <th>Earning</th>\n",
       "    </tr>\n",
       "  </thead>\n",
       "  <tbody>\n",
       "    <tr>\n",
       "      <th>0</th>\n",
       "      <td>82529.45927</td>\n",
       "      <td>6090.07732</td>\n",
       "      <td>665.21125</td>\n",
       "      <td>2311.27714</td>\n",
       "    </tr>\n",
       "    <tr>\n",
       "      <th>1</th>\n",
       "      <td>98050.45193</td>\n",
       "      <td>3382.86179</td>\n",
       "      <td>315.08489</td>\n",
       "      <td>1742.80686</td>\n",
       "    </tr>\n",
       "    <tr>\n",
       "      <th>2</th>\n",
       "      <td>82696.02355</td>\n",
       "      <td>4167.96575</td>\n",
       "      <td>458.08374</td>\n",
       "      <td>1797.82745</td>\n",
       "    </tr>\n",
       "    <tr>\n",
       "      <th>3</th>\n",
       "      <td>109914.40040</td>\n",
       "      <td>4910.88224</td>\n",
       "      <td>487.09077</td>\n",
       "      <td>1696.22918</td>\n",
       "    </tr>\n",
       "    <tr>\n",
       "      <th>4</th>\n",
       "      <td>108457.76263</td>\n",
       "      <td>5987.65581</td>\n",
       "      <td>441.03405</td>\n",
       "      <td>1543.72018</td>\n",
       "    </tr>\n",
       "  </tbody>\n",
       "</table>\n",
       "</div>"
      ],
      "text/plain": [
       "    Impression      Click  Purchase    Earning\n",
       "0  82529.45927 6090.07732 665.21125 2311.27714\n",
       "1  98050.45193 3382.86179 315.08489 1742.80686\n",
       "2  82696.02355 4167.96575 458.08374 1797.82745\n",
       "3 109914.40040 4910.88224 487.09077 1696.22918\n",
       "4 108457.76263 5987.65581 441.03405 1543.72018"
      ]
     },
     "execution_count": 2,
     "metadata": {},
     "output_type": "execute_result"
    }
   ],
   "source": [
    "# control data\n",
    "df_control = pd.read_excel(\"../input/ab-testing/ab_testing.xlsx\",sheet_name= \"Control Group\")\n",
    "df_control.head()"
   ]
  },
  {
   "cell_type": "code",
   "execution_count": 3,
   "id": "edbb36e9",
   "metadata": {
    "execution": {
     "iopub.execute_input": "2021-10-07T21:15:11.776525Z",
     "iopub.status.busy": "2021-10-07T21:15:11.775592Z",
     "iopub.status.idle": "2021-10-07T21:15:11.803217Z",
     "shell.execute_reply": "2021-10-07T21:15:11.803726Z",
     "shell.execute_reply.started": "2021-10-07T21:13:48.148815Z"
    },
    "papermill": {
     "duration": 0.047639,
     "end_time": "2021-10-07T21:15:11.803897",
     "exception": false,
     "start_time": "2021-10-07T21:15:11.756258",
     "status": "completed"
    },
    "tags": []
   },
   "outputs": [
    {
     "data": {
      "text/html": [
       "<div>\n",
       "<style scoped>\n",
       "    .dataframe tbody tr th:only-of-type {\n",
       "        vertical-align: middle;\n",
       "    }\n",
       "\n",
       "    .dataframe tbody tr th {\n",
       "        vertical-align: top;\n",
       "    }\n",
       "\n",
       "    .dataframe thead th {\n",
       "        text-align: right;\n",
       "    }\n",
       "</style>\n",
       "<table border=\"1\" class=\"dataframe\">\n",
       "  <thead>\n",
       "    <tr style=\"text-align: right;\">\n",
       "      <th></th>\n",
       "      <th>Impression</th>\n",
       "      <th>Click</th>\n",
       "      <th>Purchase</th>\n",
       "      <th>Earning</th>\n",
       "    </tr>\n",
       "  </thead>\n",
       "  <tbody>\n",
       "    <tr>\n",
       "      <th>0</th>\n",
       "      <td>120103.50380</td>\n",
       "      <td>3216.54796</td>\n",
       "      <td>702.16035</td>\n",
       "      <td>1939.61124</td>\n",
       "    </tr>\n",
       "    <tr>\n",
       "      <th>1</th>\n",
       "      <td>134775.94336</td>\n",
       "      <td>3635.08242</td>\n",
       "      <td>834.05429</td>\n",
       "      <td>2929.40582</td>\n",
       "    </tr>\n",
       "    <tr>\n",
       "      <th>2</th>\n",
       "      <td>107806.62079</td>\n",
       "      <td>3057.14356</td>\n",
       "      <td>422.93426</td>\n",
       "      <td>2526.24488</td>\n",
       "    </tr>\n",
       "    <tr>\n",
       "      <th>3</th>\n",
       "      <td>116445.27553</td>\n",
       "      <td>4650.47391</td>\n",
       "      <td>429.03353</td>\n",
       "      <td>2281.42857</td>\n",
       "    </tr>\n",
       "    <tr>\n",
       "      <th>4</th>\n",
       "      <td>145082.51684</td>\n",
       "      <td>5201.38772</td>\n",
       "      <td>749.86044</td>\n",
       "      <td>2781.69752</td>\n",
       "    </tr>\n",
       "  </tbody>\n",
       "</table>\n",
       "</div>"
      ],
      "text/plain": [
       "    Impression      Click  Purchase    Earning\n",
       "0 120103.50380 3216.54796 702.16035 1939.61124\n",
       "1 134775.94336 3635.08242 834.05429 2929.40582\n",
       "2 107806.62079 3057.14356 422.93426 2526.24488\n",
       "3 116445.27553 4650.47391 429.03353 2281.42857\n",
       "4 145082.51684 5201.38772 749.86044 2781.69752"
      ]
     },
     "execution_count": 3,
     "metadata": {},
     "output_type": "execute_result"
    }
   ],
   "source": [
    "# test data\n",
    "df_test = pd.read_excel(\"../input/ab-testing/ab_testing.xlsx\",sheet_name= \"Test Group\")\n",
    "df_test.head()"
   ]
  },
  {
   "cell_type": "markdown",
   "id": "4ad73243",
   "metadata": {
    "papermill": {
     "duration": 0.016613,
     "end_time": "2021-10-07T21:15:11.836614",
     "exception": false,
     "start_time": "2021-10-07T21:15:11.820001",
     "status": "completed"
    },
    "tags": []
   },
   "source": [
    "## Which System Enables More Purchases?\n",
    "Comparison of Purchase Means"
   ]
  },
  {
   "cell_type": "code",
   "execution_count": 4,
   "id": "572cfbd0",
   "metadata": {
    "execution": {
     "iopub.execute_input": "2021-10-07T21:15:11.872095Z",
     "iopub.status.busy": "2021-10-07T21:15:11.871215Z",
     "iopub.status.idle": "2021-10-07T21:15:11.885018Z",
     "shell.execute_reply": "2021-10-07T21:15:11.885704Z",
     "shell.execute_reply.started": "2021-10-07T21:13:48.193710Z"
    },
    "papermill": {
     "duration": 0.033587,
     "end_time": "2021-10-07T21:15:11.885921",
     "exception": false,
     "start_time": "2021-10-07T21:15:11.852334",
     "status": "completed"
    },
    "tags": []
   },
   "outputs": [
    {
     "data": {
      "text/plain": [
       "count    40.00000\n",
       "mean    550.89406\n",
       "std     134.10820\n",
       "min     267.02894\n",
       "25%     470.09553\n",
       "50%     531.20631\n",
       "75%     637.95709\n",
       "max     801.79502\n",
       "Name: Purchase, dtype: float64"
      ]
     },
     "execution_count": 4,
     "metadata": {},
     "output_type": "execute_result"
    }
   ],
   "source": [
    "df_control[\"Purchase\"].describe().T"
   ]
  },
  {
   "cell_type": "code",
   "execution_count": 5,
   "id": "ea2226b3",
   "metadata": {
    "execution": {
     "iopub.execute_input": "2021-10-07T21:15:11.927641Z",
     "iopub.status.busy": "2021-10-07T21:15:11.926703Z",
     "iopub.status.idle": "2021-10-07T21:15:11.934750Z",
     "shell.execute_reply": "2021-10-07T21:15:11.935299Z",
     "shell.execute_reply.started": "2021-10-07T21:13:48.207750Z"
    },
    "papermill": {
     "duration": 0.027079,
     "end_time": "2021-10-07T21:15:11.935464",
     "exception": false,
     "start_time": "2021-10-07T21:15:11.908385",
     "status": "completed"
    },
    "tags": []
   },
   "outputs": [
    {
     "data": {
      "text/plain": [
       "count    40.00000\n",
       "mean    582.10610\n",
       "std     161.15251\n",
       "min     311.62952\n",
       "25%     444.62683\n",
       "50%     551.35573\n",
       "75%     699.86236\n",
       "max     889.91046\n",
       "Name: Purchase, dtype: float64"
      ]
     },
     "execution_count": 5,
     "metadata": {},
     "output_type": "execute_result"
    }
   ],
   "source": [
    "df_test[\"Purchase\"].describe().T"
   ]
  },
  {
   "cell_type": "code",
   "execution_count": 6,
   "id": "1c35f8c9",
   "metadata": {
    "execution": {
     "iopub.execute_input": "2021-10-07T21:15:11.970495Z",
     "iopub.status.busy": "2021-10-07T21:15:11.969583Z",
     "iopub.status.idle": "2021-10-07T21:15:11.978621Z",
     "shell.execute_reply": "2021-10-07T21:15:11.978117Z",
     "shell.execute_reply.started": "2021-10-07T21:13:48.220159Z"
    },
    "papermill": {
     "duration": 0.027903,
     "end_time": "2021-10-07T21:15:11.978773",
     "exception": false,
     "start_time": "2021-10-07T21:15:11.950870",
     "status": "completed"
    },
    "tags": []
   },
   "outputs": [
    {
     "data": {
      "text/plain": [
       "(508.0041754264924, 593.7839421139709)"
      ]
     },
     "execution_count": 6,
     "metadata": {},
     "output_type": "execute_result"
    }
   ],
   "source": [
    "sms.DescrStatsW(df_control[\"Purchase\"]).tconfint_mean()"
   ]
  },
  {
   "cell_type": "code",
   "execution_count": 7,
   "id": "b1466e8c",
   "metadata": {
    "execution": {
     "iopub.execute_input": "2021-10-07T21:15:12.018897Z",
     "iopub.status.busy": "2021-10-07T21:15:12.018047Z",
     "iopub.status.idle": "2021-10-07T21:15:12.022025Z",
     "shell.execute_reply": "2021-10-07T21:15:12.021469Z",
     "shell.execute_reply.started": "2021-10-07T21:13:48.229605Z"
    },
    "papermill": {
     "duration": 0.027206,
     "end_time": "2021-10-07T21:15:12.022155",
     "exception": false,
     "start_time": "2021-10-07T21:15:11.994949",
     "status": "completed"
    },
    "tags": []
   },
   "outputs": [
    {
     "data": {
      "text/plain": [
       "(530.5670226990062, 633.6451705979289)"
      ]
     },
     "execution_count": 7,
     "metadata": {},
     "output_type": "execute_result"
    }
   ],
   "source": [
    "sms.DescrStatsW(df_test[\"Purchase\"]).tconfint_mean()"
   ]
  },
  {
   "cell_type": "markdown",
   "id": "5c94b540",
   "metadata": {
    "papermill": {
     "duration": 0.015556,
     "end_time": "2021-10-07T21:15:12.056187",
     "exception": false,
     "start_time": "2021-10-07T21:15:12.040631",
     "status": "completed"
    },
    "tags": []
   },
   "source": [
    "This comparison indicates the new system is more applicable because it's mean is higher than old one\n",
    "\n",
    "Yet, this Question must be asked => Is the difference of Means meaningfull statistically\n"
   ]
  },
  {
   "cell_type": "markdown",
   "id": "a2a954e5",
   "metadata": {
    "papermill": {
     "duration": 0.015404,
     "end_time": "2021-10-07T21:15:12.087407",
     "exception": false,
     "start_time": "2021-10-07T21:15:12.072003",
     "status": "completed"
    },
    "tags": []
   },
   "source": [
    "## Independent Two Sample T-Test\n"
   ]
  },
  {
   "cell_type": "markdown",
   "id": "f8f696f2",
   "metadata": {
    "papermill": {
     "duration": 0.016416,
     "end_time": "2021-10-07T21:15:12.119978",
     "exception": false,
     "start_time": "2021-10-07T21:15:12.103562",
     "status": "completed"
    },
    "tags": []
   },
   "source": [
    "## Hypothesis Testing\n",
    "Let's write our hypothesis.\n",
    "* **h0: m1 = m2 :** no significant difference in control group and test group purchases\n",
    "* **h1: m1 != m2 :** there is a significant difference in control group and test group purchases\n",
    "\n",
    "\n",
    "## Assumption Control\n",
    "Before test, we should consider \n",
    "1. Normality Assumption\n",
    "2. Variance Homogeneity Assumption\n",
    "\n",
    "### 1. Normality Assumption (Shapiro-Wilk-W test)\n",
    "\n",
    "* **H0:** Normal distribution assumption is provided.(p-value < 0.05)\n",
    "\n",
    "* **H1:** Normal distribution assumption not provided. (not p-value < 0.05)"
   ]
  },
  {
   "cell_type": "code",
   "execution_count": 8,
   "id": "2519ee34",
   "metadata": {
    "execution": {
     "iopub.execute_input": "2021-10-07T21:15:12.156666Z",
     "iopub.status.busy": "2021-10-07T21:15:12.155727Z",
     "iopub.status.idle": "2021-10-07T21:15:12.162043Z",
     "shell.execute_reply": "2021-10-07T21:15:12.161348Z",
     "shell.execute_reply.started": "2021-10-07T21:13:48.242565Z"
    },
    "papermill": {
     "duration": 0.026298,
     "end_time": "2021-10-07T21:15:12.162253",
     "exception": false,
     "start_time": "2021-10-07T21:15:12.135955",
     "status": "completed"
    },
    "tags": []
   },
   "outputs": [
    {
     "name": "stdout",
     "output_type": "stream",
     "text": [
      "Test Stat = 0.9773, p-value = 0.5891\n"
     ]
    }
   ],
   "source": [
    "# control group\n",
    "test_stat, pvalue = shapiro(df_control[\"Purchase\"])\n",
    "print('Test Stat = %.4f, p-value = %.4f' % (test_stat, pvalue))"
   ]
  },
  {
   "cell_type": "markdown",
   "id": "3cda89c1",
   "metadata": {
    "papermill": {
     "duration": 0.016192,
     "end_time": "2021-10-07T21:15:12.196200",
     "exception": false,
     "start_time": "2021-10-07T21:15:12.180008",
     "status": "completed"
    },
    "tags": []
   },
   "source": [
    "H0 hypothesis could not be rejected because pvalue = 0.5891 > 0.05.\n",
    "\n",
    "We see that the data in the control group has a normal distribution.\n",
    "\n",
    "Because 0.05 is not greater than p value."
   ]
  },
  {
   "cell_type": "code",
   "execution_count": 9,
   "id": "c1e4880a",
   "metadata": {
    "execution": {
     "iopub.execute_input": "2021-10-07T21:15:12.234190Z",
     "iopub.status.busy": "2021-10-07T21:15:12.233391Z",
     "iopub.status.idle": "2021-10-07T21:15:12.237610Z",
     "shell.execute_reply": "2021-10-07T21:15:12.236910Z",
     "shell.execute_reply.started": "2021-10-07T21:13:48.256422Z"
    },
    "papermill": {
     "duration": 0.025437,
     "end_time": "2021-10-07T21:15:12.237800",
     "exception": false,
     "start_time": "2021-10-07T21:15:12.212363",
     "status": "completed"
    },
    "tags": []
   },
   "outputs": [
    {
     "name": "stdout",
     "output_type": "stream",
     "text": [
      "Test Stat = 0.9589, p-value = 0.1541\n"
     ]
    }
   ],
   "source": [
    "# test group\n",
    "test_stat, pvalue = shapiro(df_test[\"Purchase\"])\n",
    "print('Test Stat = %.4f, p-value = %.4f' % (test_stat, pvalue))"
   ]
  },
  {
   "cell_type": "markdown",
   "id": "44c07c66",
   "metadata": {
    "papermill": {
     "duration": 0.016237,
     "end_time": "2021-10-07T21:15:12.271730",
     "exception": false,
     "start_time": "2021-10-07T21:15:12.255493",
     "status": "completed"
    },
    "tags": []
   },
   "source": [
    "H0 hypothesis could not be rejected because pvalue = 0.1541 > 0.05.\n",
    "\n",
    "We see that the data in the test group has a normal distribution.\n",
    "\n",
    "Because 0.05 is not greater than p value.\n",
    "\n",
    "### 2. Variance Homogeneity Assumption\n",
    "\n",
    "Variance Homogeneity Assumption (Levene Test)\n",
    "\n",
    "**H0:** Variances are homogeneous. (p-value < 0.05)\n",
    "\n",
    "**H1:** Variances are not homogeneous. (not p-value < 0.05)"
   ]
  },
  {
   "cell_type": "code",
   "execution_count": 10,
   "id": "7925c833",
   "metadata": {
    "execution": {
     "iopub.execute_input": "2021-10-07T21:15:12.310554Z",
     "iopub.status.busy": "2021-10-07T21:15:12.307732Z",
     "iopub.status.idle": "2021-10-07T21:15:12.314497Z",
     "shell.execute_reply": "2021-10-07T21:15:12.314901Z",
     "shell.execute_reply.started": "2021-10-07T21:13:48.269014Z"
    },
    "papermill": {
     "duration": 0.026739,
     "end_time": "2021-10-07T21:15:12.315064",
     "exception": false,
     "start_time": "2021-10-07T21:15:12.288325",
     "status": "completed"
    },
    "tags": []
   },
   "outputs": [
    {
     "name": "stdout",
     "output_type": "stream",
     "text": [
      "Test Stat = 2.6393, p-value = 0.1083\n"
     ]
    }
   ],
   "source": [
    "test_stat, pvalue = levene(df_control[\"Purchase\"], df_test[\"Purchase\"])\n",
    "print('Test Stat = %.4f, p-value = %.4f' % (test_stat, pvalue))"
   ]
  },
  {
   "cell_type": "markdown",
   "id": "6d8b1faf",
   "metadata": {
    "papermill": {
     "duration": 0.01645,
     "end_time": "2021-10-07T21:15:12.348219",
     "exception": false,
     "start_time": "2021-10-07T21:15:12.331769",
     "status": "completed"
    },
    "tags": []
   },
   "source": [
    "H0 hypothesis could be rejected because pvalue = 0.1083 > 0.05.\n",
    "\n",
    "We see that the data in the test and control group have variances homogeneous.\n",
    "\n",
    "Because 0.05 is not greater than p value."
   ]
  },
  {
   "cell_type": "markdown",
   "id": "ddc0153e",
   "metadata": {
    "papermill": {
     "duration": 0.016346,
     "end_time": "2021-10-07T21:15:12.381440",
     "exception": false,
     "start_time": "2021-10-07T21:15:12.365094",
     "status": "completed"
    },
    "tags": []
   },
   "source": [
    "#### Independent Two Sample T-Test\n",
    "What was our hypothesis? Let's call it again.\n",
    "* H0: M1 = M2 (... there is no difference between the mean of the two groups.)\n",
    "* H1: M1 != M2 (...there is a difference between the ist means between the two group means)\n",
    "\n",
    "\n",
    "#### p-value indicates\n",
    "When we use independet two sample t-test, we should consider these values\n",
    "* p-value <- 0.05 H0 rejected\n",
    "* p-value <- if not 0.05, H0 can't be rejected"
   ]
  },
  {
   "cell_type": "code",
   "execution_count": 11,
   "id": "76a1890a",
   "metadata": {
    "execution": {
     "iopub.execute_input": "2021-10-07T21:15:12.420825Z",
     "iopub.status.busy": "2021-10-07T21:15:12.420072Z",
     "iopub.status.idle": "2021-10-07T21:15:12.423002Z",
     "shell.execute_reply": "2021-10-07T21:15:12.423588Z",
     "shell.execute_reply.started": "2021-10-07T21:13:48.281069Z"
    },
    "papermill": {
     "duration": 0.02573,
     "end_time": "2021-10-07T21:15:12.423744",
     "exception": false,
     "start_time": "2021-10-07T21:15:12.398014",
     "status": "completed"
    },
    "tags": []
   },
   "outputs": [
    {
     "name": "stdout",
     "output_type": "stream",
     "text": [
      "Test Stat = -0.9416, p-value = 0.3493\n"
     ]
    }
   ],
   "source": [
    "# Independent Two Sample T-Test\n",
    "test_stat, pvalue = ttest_ind(df_control[\"Purchase\"], df_test[\"Purchase\"], equal_var=True)\n",
    "print('Test Stat = %.4f, p-value = %.4f' % (test_stat, pvalue))"
   ]
  },
  {
   "cell_type": "markdown",
   "id": "81afa14b",
   "metadata": {
    "papermill": {
     "duration": 0.016474,
     "end_time": "2021-10-07T21:15:12.457218",
     "exception": false,
     "start_time": "2021-10-07T21:15:12.440744",
     "status": "completed"
    },
    "tags": []
   },
   "source": [
    "p-value is 0.3493, H0 hypothesis cannot be rejected. There is a significant difference between the means of the two groups"
   ]
  }
 ],
 "metadata": {
  "kernelspec": {
   "display_name": "Python 3",
   "language": "python",
   "name": "python3"
  },
  "language_info": {
   "codemirror_mode": {
    "name": "ipython",
    "version": 3
   },
   "file_extension": ".py",
   "mimetype": "text/x-python",
   "name": "python",
   "nbconvert_exporter": "python",
   "pygments_lexer": "ipython3",
   "version": "3.7.10"
  },
  "papermill": {
   "default_parameters": {},
   "duration": 19.734525,
   "end_time": "2021-10-07T21:15:14.120812",
   "environment_variables": {},
   "exception": null,
   "input_path": "__notebook__.ipynb",
   "output_path": "__notebook__.ipynb",
   "parameters": {},
   "start_time": "2021-10-07T21:14:54.386287",
   "version": "2.3.3"
  }
 },
 "nbformat": 4,
 "nbformat_minor": 5
}
